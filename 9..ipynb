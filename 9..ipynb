{
  "nbformat": 4,
  "nbformat_minor": 0,
  "metadata": {
    "colab": {
      "provenance": [],
      "toc_visible": true
    },
    "kernelspec": {
      "name": "python3",
      "display_name": "Python 3"
    }
  },
  "cells": [
    {
      "cell_type": "markdown",
      "metadata": {
        "id": "KJqp9AANOCtf"
      },
      "source": [
        "<img src=\"https://raw.githubusercontent.com/andre-marcos-perez/ebac-course-utils/main/media/logo/newebac_logo_black_half.png\" alt=\"ebac-logo\">\n",
        "\n",
        "---\n",
        "\n",
        "# **Módulo** | Python: Scripting\n",
        "Caderno de **Exercícios**<br>\n",
        "Professor [André Perez](https://www.linkedin.com/in/andremarcosperez/)\n",
        "\n",
        "---"
      ]
    },
    {
      "cell_type": "markdown",
      "source": [
        "# Nova seção"
      ],
      "metadata": {
        "id": "Lzmd7dHXQqDw"
      }
    },
    {
      "cell_type": "markdown",
      "source": [
        "# Nova seção"
      ],
      "metadata": {
        "id": "-aUYcXsbhv6c"
      }
    },
    {
      "cell_type": "markdown",
      "source": [
        "# Nova seção"
      ],
      "metadata": {
        "id": "jrrX12W8LM85"
      }
    },
    {
      "cell_type": "markdown",
      "metadata": {
        "id": "d9jDtUbDOE1-"
      },
      "source": [
        "# **Tópicos**\n",
        "\n",
        "<ol type=\"1\">\n",
        "  <li>Instalando o Python na própria máquina;</li>\n",
        "  <li>Executando código Python no terminal;</li>\n",
        "  <li>Criando arquivos de script Python.</li>\n",
        "</ol>"
      ]
    },
    {
      "cell_type": "markdown",
      "metadata": {
        "id": "SmoHgt-lwkpD"
      },
      "source": [
        "---"
      ]
    },
    {
      "cell_type": "markdown",
      "metadata": {
        "id": "GABI6OW8OfQ2"
      },
      "source": [
        "# **Exercícios**"
      ]
    },
    {
      "cell_type": "markdown",
      "metadata": {
        "id": "muD1vxozykSC"
      },
      "source": [
        "## 0\\. Preparando o ambiente"
      ]
    },
    {
      "cell_type": "markdown",
      "metadata": {
        "id": "4TT1IaG2DOuR"
      },
      "source": [
        " - Instalando o Python e o PIP na sua máquina."
      ]
    },
    {
      "cell_type": "markdown",
      "metadata": {
        "id": "PfJij-X6DS3o"
      },
      "source": [
        " - Instalando os pacotes necessários."
      ]
    },
    {
      "cell_type": "markdown",
      "metadata": {
        "id": "qfhQuCEaDb3H"
      },
      "source": [
        "Instale os pacotes necessários para conduzir os exercícios.\n",
        "\n",
        "```shell\n",
        "pip install pandas==1.2.4 seaborn==0.11.1 requests==2.25.1\n",
        "```"
      ]
    },
    {
      "cell_type": "markdown",
      "metadata": {
        "id": "zMN1Q3jdwoJm"
      },
      "source": [
        "---"
      ]
    },
    {
      "cell_type": "code",
      "source": [],
      "metadata": {
        "id": "aeWcKJGiaHE_"
      },
      "execution_count": null,
      "outputs": []
    },
    {
      "cell_type": "markdown",
      "metadata": {
        "id": "GWgNoJN8DHyY"
      },
      "source": [
        "## 1\\. Script de Extração"
      ]
    },
    {
      "cell_type": "markdown",
      "metadata": {
        "id": "YynK1vf2DHyj"
      },
      "source": [
        "O *script* para extrair a taxa CDI do site da B3 foi adaptado para ser executado 10 vezes para gerar nossa base de dados. Na sua máquina, crie o arquivo `extracao.py` com o `script` abaixo e execute-o com o comando:\n",
        "\n",
        "```shell\n",
        "python extracao.py\n",
        "```\n",
        "\n",
        "No final, você deve ter o arquivo `taxa-cdi.csv` com os dados extraídos."
      ]
    },
    {
      "cell_type": "code",
      "metadata": {
        "id": "hVK8QyFvE-wk",
        "colab": {
          "base_uri": "https://localhost:8080/"
        },
        "outputId": "765dff9e-636b-4184-93f8-934c6d4e863c"
      },
      "source": [
        "import os\n",
        "import time\n",
        "import json\n",
        "from random import random\n",
        "from datetime import datetime\n",
        "\n",
        "import requests\n",
        "\n",
        "URL = 'https://www2.cetip.com.br/ConsultarTaxaDi/ConsultarTaxaDICetip.aspx'\n",
        "\n",
        "# Criando a variável data e hora\n",
        "\n",
        "for _ in range(0, 10):\n",
        "\n",
        "  data_e_hora = datetime.now()\n",
        "  data = datetime.strftime(data_e_hora, '%Y/%m/%d')\n",
        "  hora = datetime.strftime(data_e_hora, '%H:%M:%S')\n",
        "\n",
        "  # Captando a taxa CDI do site da B3\n",
        "\n",
        "  try:\n",
        "    response = requests.get(URL)\n",
        "    response.raise_for_status()\n",
        "  except requests.HTTPError as exc:\n",
        "    print(\"Dado não encontrado, continuando.\")\n",
        "    cdi = None\n",
        "  except Exception as exc:\n",
        "    print(\"Erro, parando a execução.\")\n",
        "    raise exc\n",
        "  else:\n",
        "    dado = json.loads(response.text)\n",
        "    cdi = float(dado['taxa'].replace(',', '.')) + (random() - 0.5)\n",
        "\n",
        "  # Verificando se o arquivo \"taxa-cdi.csv\" existe\n",
        "\n",
        "  if os.path.exists('./taxa-cdi.csv') == False:\n",
        "\n",
        "    with open(file='./taxa-cdi.csv', mode='w', encoding='utf8') as fp:\n",
        "      fp.write('data,hora,taxa\\n')\n",
        "\n",
        "  # Salvando dados no arquivo \"taxa-cdi.csv\"\n",
        "\n",
        "  with open(file='./taxa-cdi.csv', mode='a', encoding='utf8') as fp:\n",
        "    fp.write(f'{data},{hora},{cdi}\\n')\n",
        "\n",
        "  time.sleep(2 + (random() - 0.5))\n",
        "\n",
        "print(\"Sucesso\")"
      ],
      "execution_count": null,
      "outputs": [
        {
          "output_type": "stream",
          "name": "stdout",
          "text": [
            "Sucesso\n"
          ]
        }
      ]
    },
    {
      "cell_type": "markdown",
      "metadata": {
        "id": "waxn4B2UDHyl"
      },
      "source": [
        "---"
      ]
    },
    {
      "cell_type": "markdown",
      "metadata": {
        "id": "finLQoyyGVmk"
      },
      "source": [
        "## 2\\. Script de Visualização"
      ]
    },
    {
      "cell_type": "markdown",
      "metadata": {
        "id": "99BrnqR4GVmy"
      },
      "source": [
        "Já o *script* para gerar um grafico da taxa CDI do site da B3 foi adaptado para utilizar o pacote Pandas. Na sua máquina, crie o arquivo `visualizacao.py` com o `script` abaixo e execute-o com o comando:\n",
        "\n",
        "```shell\n",
        "python visualizacao.py <nome-do-grafico>\n",
        "```\n",
        "\n",
        "O *script* espera um parametro de entrada com o nome do gráfico, portanto substitua o `<nome-do-grafico>` pelo nome do seu gráfico. No final, você deve ter uma imagem no formato png com o nome passado via parametro contendo a visualização dos dados gerados pelo *script* de extração.."
      ]
    },
    {
      "cell_type": "code",
      "metadata": {
        "id": "ozGsxHbPGVmz",
        "colab": {
          "base_uri": "https://localhost:8080/",
          "height": 532
        },
        "outputId": "d8bb0654-7a2b-4f2a-b9b8-3054f2c56f0d"
      },
      "source": [
        "import csv\n",
        "from sys import argv\n",
        "\n",
        "import pandas as pd\n",
        "import seaborn as sns\n",
        "\n",
        "# Extraindo as colunas hora e taxa\n",
        "\n",
        "df = pd.read_csv('./taxa-cdi.csv')\n",
        "\n",
        "# Salvando no grafico\n",
        "\n",
        "grafico = sns.lineplot(x=df['hora'], y=df['taxa'])\n",
        "_ = grafico.set_xticklabels(labels=df['hora'], rotation=90)\n",
        "grafico.get_figure().savefig(f\"{argv[1]}.png\")\n"
      ],
      "execution_count": null,
      "outputs": [
        {
          "output_type": "stream",
          "name": "stderr",
          "text": [
            "<ipython-input-2-04381e656c0b>:14: UserWarning: FixedFormatter should only be used together with FixedLocator\n",
            "  _ = grafico.set_xticklabels(labels=df['hora'], rotation=90)\n"
          ]
        },
        {
          "output_type": "display_data",
          "data": {
            "text/plain": [
              "<Figure size 640x480 with 1 Axes>"
            ],
            "image/png": "[encoded data removed]"
          },
          "metadata": {}
        }
      ]
    },
    {
      "cell_type": "markdown",
      "metadata": {
        "id": "As3enQc2GVm1"
      },
      "source": [
        "---"
      ]
    },
    {
      "cell_type": "markdown",
      "metadata": {
        "id": "SS1PxxfHILHs"
      },
      "source": [
        "## 3\\. Combinando os scripts de extração e visualização."
      ]
    },
    {
      "cell_type": "markdown",
      "metadata": {
        "id": "R4hMJ6D2ILH3"
      },
      "source": [
        "Combine os *scripts* `visualizacao.py` e `extracao.py` no arquivo `analise.py` e execute-o na sua máquina, ele deve retornar os mesmos resultados: o arquivo csv e a imagem no formato png com o título escolhido via parametro de entrada. Procure seguir a organização proposta na aula (PEP8).\n",
        "\n",
        "```shell\n",
        "python analise.py <nome-do-grafico>\n",
        "```\n",
        "\n",
        "Além disso, copie o código na célula abaixo para que o tutor possa avaliar seu exercícios."
      ]
    },
    {
      "cell_type": "code",
      "metadata": {
        "id": "ogZClDvTILH3"
      },
      "source": [
        "# combinação dos scripts de extração e visualização\n",
        "\n",
        "\n",
        "C:\\Users\\Victor>PYTHON\n",
        "Python 3.11.5 (tags/v3.11.5:cce6ba9, Aug 24 2023, 14:38:34) [MSC v.1936 64 bit (AMD64)] on win32\n",
        "Type \"help\", \"copyright\", \"credits\" or \"license\" for more information.\n",
        ">>>\n",
        ">>> import os\n",
        ">>> import time\n",
        ">>> import json\n",
        ">>> from random import random\n",
        ">>> from datetime import datetime\n",
        ">>>\n",
        ">>> import requests\n",
        ">>>\n",
        ">>> URL = 'https://www2.cetip.com.br/ConsultarTaxaDi/ConsultarTaxaDICetip.aspx'\n",
        ">>>\n",
        ">>> # Criando a variável data e hora\n",
        ">>>\n",
        ">>> for _ in range(0, 10):\n",
        "...\n",
        "  File \"<stdin>\", line 2\n",
        "\n",
        "    ^\n",
        "IndentationError: expected an indented block after 'for' statement on line 1\n",
        ">>>   data_e_hora = datetime.now()\n",
        "  File \"<stdin>\", line 1\n",
        "    data_e_hora = datetime.now()\n",
        "IndentationError: unexpected indent\n",
        ">>>   data = datetime.strftime(data_e_hora, '%Y/%m/%d')\n",
        "  File \"<stdin>\", line 1\n",
        "    data = datetime.strftime(data_e_hora, '%Y/%m/%d')\n",
        "IndentationError: unexpected indent\n",
        ">>>   hora = datetime.strftime(data_e_hora, '%H:%M:%S')\n",
        "  File \"<stdin>\", line 1\n",
        "    hora = datetime.strftime(data_e_hora, '%H:%M:%S')\n",
        "IndentationError: unexpected indent\n",
        ">>>\n",
        ">>>   # Captando a taxa CDI do site da B3\n",
        ">>>\n",
        ">>>   try:\n",
        "  File \"<stdin>\", line 1\n",
        "    try:\n",
        "IndentationError: unexpected indent\n",
        ">>>     response = requests.get(URL)\n",
        "  File \"<stdin>\", line 1\n",
        "    response = requests.get(URL)\n",
        "IndentationError: unexpected indent\n",
        ">>>     response.raise_for_status()\n",
        "  File \"<stdin>\", line 1\n",
        "    response.raise_for_status()\n",
        "IndentationError: unexpected indent\n",
        ">>>   except requests.HTTPError as exc:\n",
        "  File \"<stdin>\", line 1\n",
        "    except requests.HTTPError as exc:\n",
        "IndentationError: unexpected indent\n",
        ">>>     print(\"Dado não encontrado, continuando.\")\n",
        "  File \"<stdin>\", line 1\n",
        "    print(\"Dado não encontrado, continuando.\")\n",
        "IndentationError: unexpected indent\n",
        ">>>     cdi = None\n",
        "  File \"<stdin>\", line 1\n",
        "    cdi = None\n",
        "IndentationError: unexpected indent\n",
        ">>>   except Exception as exc:\n",
        "  File \"<stdin>\", line 1\n",
        "    except Exception as exc:\n",
        "IndentationError: unexpected indent\n",
        ">>>     print(\"Erro, parando a execução.\")\n",
        "  File \"<stdin>\", line 1\n",
        "    print(\"Erro, parando a execução.\")\n",
        "IndentationError: unexpected indent\n",
        ">>>     raise exc\n",
        "  File \"<stdin>\", line 1\n",
        "    raise exc\n",
        "IndentationError: unexpected indent\n",
        ">>>   else:\n",
        "  File \"<stdin>\", line 1\n",
        "    else:\n",
        "IndentationError: unexpected indent\n",
        ">>>     dado = json.loads(response.text)\n",
        "  File \"<stdin>\", line 1\n",
        "    dado = json.loads(response.text)\n",
        "IndentationError: unexpected indent\n",
        ">>>     cdi = float(dado['taxa'].replace(',', '.')) + (random() - 0.5)\n",
        "  File \"<stdin>\", line 1\n",
        "    cdi = float(dado['taxa'].replace(',', '.')) + (random() - 0.5)\n",
        "IndentationError: unexpected indent\n",
        ">>>\n",
        ">>>   # Verificando se o arquivo \"taxa-cdi.csv\" existe\n",
        ">>>\n",
        ">>>   if os.path.exists('./taxa-cdi.csv') == False:\n",
        "  File \"<stdin>\", line 1\n",
        "    if os.path.exists('./taxa-cdi.csv') == False:\n",
        "IndentationError: unexpected indent\n",
        ">>>\n",
        ">>>     with open(file='./taxa-cdi.csv', mode='w', encoding='utf8') as fp:\n",
        "  File \"<stdin>\", line 1\n",
        "    with open(file='./taxa-cdi.csv', mode='w', encoding='utf8') as fp:\n",
        "IndentationError: unexpected indent\n",
        ">>>       fp.write('data,hora,taxa\\n')\n",
        "  File \"<stdin>\", line 1\n",
        "    fp.write('data,hora,taxa\\n')\n",
        "IndentationError: unexpected indent\n",
        ">>>\n",
        ">>>   # Salvando dados no arquivo \"taxa-cdi.csv\"\n",
        ">>>\n",
        ">>>   with open(file='./taxa-cdi.csv', mode='a', encoding='utf8') as fp:\n",
        "  File \"<stdin>\", line 1\n",
        "    with open(file='./taxa-cdi.csv', mode='a', encoding='utf8') as fp:\n",
        "IndentationError: unexpected indent\n",
        ">>>     fp.write(f'{data},{hora},{cdi}\\n')\n",
        "  File \"<stdin>\", line 1\n",
        "    fp.write(f'{data},{hora},{cdi}\\n')\n",
        "IndentationError: unexpected indent\n",
        ">>>\n",
        ">>>   time.sleep(2 + (random() - 0.5))\n",
        "  File \"<stdin>\", line 1\n",
        "    time.sleep(2 + (random() - 0.5))\n",
        "IndentationError: unexpected indent\n",
        ">>>\n",
        ">>> print(\"Sucesso\")\n",
        "Sucesso\n",
        ">>>\n",
        ">>> import csv\n",
        ">>> from sys import argv\n",
        ">>>\n",
        ">>> import pandas as pd\n",
        "Traceback (most recent call last):\n",
        "  File \"<stdin>\", line 1, in <module>\n",
        "ModuleNotFoundError: No module named 'pandas'\n",
        ">>> import seaborn as sns\n",
        "Traceback (most recent call last):\n",
        "  File \"<stdin>\", line 1, in <module>\n",
        "ModuleNotFoundError: No module named 'seaborn'\n",
        ">>>\n",
        ">>> # Extraindo as colunas hora e taxa\n",
        ">>>\n",
        ">>> df = pd.read_csv('./taxa-cdi.csv')\n",
        "Traceback (most recent call last):\n",
        "  File \"<stdin>\", line 1, in <module>\n",
        "NameError: name 'pd' is not defined. Did you mean: 'id'?\n",
        ">>>\n",
        ">>> # Salvando no grafico\n",
        ">>>\n",
        ">>> grafico = sns.lineplot(x=df['hora'], y=df['taxa'])\n",
        "Traceback (most recent call last):\n",
        "  File \"<stdin>\", line 1, in <module>\n",
        "NameError: name 'sns' is not defined\n",
        ">>> _ = grafico.set_xticklabels(labels=df['hora'], rotation=90)\n",
        "Traceback (most recent call last):\n",
        "  File \"<stdin>\", line 1, in <module>\n",
        "NameError: name 'grafico' is not defined\n",
        ">>> grafico.get_figure().savefig(f\"{argv[1]}.png\")\n",
        "Traceback (most recent call last):\n",
        "  File \"<stdin>\", line 1, in <module>\n",
        "NameError: name 'grafico' is not defined\n",
        ">>>\n",
        ">>>\n",
        "\n",
        "\n",
        "\n",
        "\n",
        "\n",
        "\n",
        "\n"
      ],
      "execution_count": null,
      "outputs": []
    },
    {
      "cell_type": "markdown",
      "source": [
        "# Nova seção"
      ],
      "metadata": {
        "id": "WJ8HF8BZNegZ"
      }
    },
    {
      "cell_type": "markdown",
      "metadata": {
        "id": "Fx--J2bOILH4"
      },
      "source": [
        "---"
      ]
    }
  ]
}